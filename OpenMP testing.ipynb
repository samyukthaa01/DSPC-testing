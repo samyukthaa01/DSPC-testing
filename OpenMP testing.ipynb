{
 "cells": [
  {
   "cell_type": "code",
   "execution_count": 1,
   "id": "ebeaf98d",
   "metadata": {},
   "outputs": [
    {
     "name": "stdout",
     "output_type": "stream",
     "text": [
      "Original Text:\n",
      "Lorem ipsum dolor sit amet consectetur adipiscing elit Sed do eiusmod tempor incididunt ut labore et dolore magna aliqua Ut enim ad minim veniam quis nostrud exercitation ullamco laboris nisi ut aliquip ex ea commodo consequat Duis aute irure dolor in reprehenderit in voluptate velit esse cillum dolore eu fugiat nulla pariatur Excepteur sint occaecat cupidatat non proident sunt in culpa qui officia deserunt mollit anim id est laborum\n",
      "\n",
      "Decompressed Text:\n",
      "Lorem ipsum dolor sit amet consectetur adipiscing elit Sed do eiusmod tempor incididunt ut labore et dolore magna aliqua Ut enim ad minim veniam quis nostrud exercitation ullamco laboris nisi ut aliquip ex ea commodo consequat Duis aute irure dolor in reprehenderit in voluptate velit esse cillum dolore eu fugiat nulla pariatur Excepteur sint occaecat cupidatat non proident sunt in culpa qui officia deserunt mollit anim id est laborum\n",
      "\n",
      "Original text and decompressed text match.\n"
     ]
    }
   ],
   "source": [
    "import re\n",
    "\n",
    "def normalize_text(text):\n",
    "    # Remove special characters, punctuation, and extra whitespace\n",
    "    normalized_text = re.sub(r'[^\\w\\s-]', '', text)\n",
    "    normalized_text = re.sub(r'\\s+', ' ', normalized_text)\n",
    "    return normalized_text.strip()\n",
    "\n",
    "def compare_texts(compressed_file, decompressed_file, original_text_file):\n",
    "    # Read the compressed and decompressed files\n",
    "    with open(compressed_file, 'rb') as compressed, open(decompressed_file, 'rb') as decompressed, open(original_text_file, 'r', encoding='latin-1') as original_text:\n",
    "        compressed_data = compressed.read()\n",
    "        decompressed_data = decompressed.read()\n",
    "        original_data = original_text.read()\n",
    "\n",
    "    # Normalize texts\n",
    "    compressed_text = normalize_text(compressed_data.decode('latin-1'))\n",
    "    decompressed_text = normalize_text(decompressed_data.decode('utf-8'))\n",
    "    original_text = normalize_text(original_data)\n",
    "\n",
    "    # Print original and decompressed text\n",
    "    print(\"Original Text:\")\n",
    "    print(original_text)\n",
    "\n",
    "    print(\"\\nDecompressed Text:\")\n",
    "    print(decompressed_text)\n",
    "\n",
    "    # Compare normalized texts\n",
    "    if original_text == decompressed_text:\n",
    "        print(\"\\nOriginal text and decompressed text match.\")\n",
    "    else:\n",
    "        print(\"\\nOriginal text and decompressed text do not match.\")\n",
    "\n",
    "# Paths to the compressed and decompressed files\n",
    "compressed_file = \"C:\\\\Users\\\\user\\\\source\\\\repos\\\\OpenMP Trial\\\\OpenMP Trial\\\\output.bin\"\n",
    "decompressed_file = \"C:\\\\Users\\\\user\\\\source\\\\repos\\\\OpenMP Trial\\\\OpenMP Trial\\\\decompressed_out.txt\"\n",
    "original_text_file = \"C:\\\\Users\\\\user\\\\Documents\\\\sample-2mb-text-file.txt\"\n",
    "\n",
    "# Compare original text and decompressed text\n",
    "compare_texts(compressed_file, decompressed_file, original_text_file)\n"
   ]
  },
  {
   "cell_type": "code",
   "execution_count": null,
   "id": "8dcce268",
   "metadata": {},
   "outputs": [],
   "source": []
  },
  {
   "cell_type": "code",
   "execution_count": null,
   "id": "07a40e3d",
   "metadata": {},
   "outputs": [],
   "source": []
  }
 ],
 "metadata": {
  "kernelspec": {
   "display_name": "Python 3 (ipykernel)",
   "language": "python",
   "name": "python3"
  },
  "language_info": {
   "codemirror_mode": {
    "name": "ipython",
    "version": 3
   },
   "file_extension": ".py",
   "mimetype": "text/x-python",
   "name": "python",
   "nbconvert_exporter": "python",
   "pygments_lexer": "ipython3",
   "version": "3.10.9"
  }
 },
 "nbformat": 4,
 "nbformat_minor": 5
}
